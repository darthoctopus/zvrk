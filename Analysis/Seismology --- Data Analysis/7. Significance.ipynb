{
 "cells": [
  {
   "cell_type": "code",
   "execution_count": 1,
   "metadata": {},
   "outputs": [],
   "source": [
    "from preamble import *\n",
    "from preamble.dynesty.pooled_lw_rot import *"
   ]
  },
  {
   "cell_type": "code",
   "execution_count": 2,
   "metadata": {
    "scrolled": true
   },
   "outputs": [],
   "source": [
    "from functools import partial\n",
    "from os.path import isfile\n",
    "\n",
    "@partial(jax.jit, static_argnums=(1,2))\n",
    "def ln_like(θ, without=-1, without_l=-1):\n",
    "#     return sum(ln_like_chi2_2dof(m, o) for m, o in zip(model(θ), chunk_PS))\n",
    "    return ln_like_chi2_2dof(\n",
    "        chunk_model(ν, θ, without=without, without_l=without_l), \n",
    "        PS)\n",
    "reset = False\n",
    "\n",
    "if (not isfile(checkpoint)) or reset:\n",
    "    sampler = dynesty.DynamicNestedSampler(ln_like, prior_transform, Ndims, reflective=[0])\n",
    "    sampler.run_nested()\n",
    "    summary = summarise(sampler)\n",
    "    np.save(checkpoint, {'summary': summary})\n",
    "else:\n",
    "    d = np.load(checkpoint, allow_pickle=True)[()]\n",
    "    summary = d['summary']\n",
    "    \n",
    "from os import makedirs\n",
    "from os.path import basename\n",
    "figdir = f\"figures/{basename(checkpoint).replace('.npy', '')}\"\n",
    "makedirs(figdir, exist_ok=True)"
   ]
  },
  {
   "cell_type": "code",
   "execution_count": 3,
   "metadata": {},
   "outputs": [
    {
     "name": "stderr",
     "output_type": "stream",
     "text": [
      "No GPU/TPU found, falling back to CPU. (Set TF_CPP_MIN_LOG_LEVEL=0 and rerun for more info.)\n"
     ]
    },
    {
     "data": {
      "text/plain": [
       " message: Converged (|f_n-f_(n-1)| ~= 0)\n",
       " success: True\n",
       "  status: 1\n",
       "     fun: 927.542724609375\n",
       "       x: [ 1.436e+00  4.804e-02 ...  8.845e-01  2.115e-01]\n",
       "     nit: 1\n",
       "     jac: [ 0.000e+00  0.000e+00 ...  0.000e+00  0.000e+00]\n",
       "    nfev: 722"
      ]
     },
     "execution_count": 3,
     "metadata": {},
     "output_type": "execute_result"
    }
   ],
   "source": [
    "from scipy.optimize import minimize\n",
    "\n",
    "# get ML solution\n",
    "\n",
    "θ0 = summary['new_samples'][-1]\n",
    "f = lambda *a: -ln_like(*a)\n",
    "j0 = minimize(f, θ0, method='L-BFGS-B',\n",
    "              options=dict(maxiter=30000))\n",
    "θ = j0['x']\n",
    "j0 = minimize(f, θ, method='Nelder-Mead',\n",
    "              options=dict(maxiter=30000, ))\n",
    "θ = j0['x']\n",
    "j0 = minimize(f, θ, method='Nelder-Mead',\n",
    "              options=dict(maxiter=30000, ))\n",
    "θ = j0['x']\n",
    "j0 = minimize(f, θ, method='TNC')\n",
    "θ = j0['x']\n",
    "q0 = j0['fun']\n",
    "j0"
   ]
  },
  {
   "cell_type": "code",
   "execution_count": 4,
   "metadata": {},
   "outputs": [
    {
     "name": "stdout",
     "output_type": "stream",
     "text": [
      "69.778 | 7.045e-16 | 962.43\n",
      "28.152 | 7.705e-07 | 941.62\n",
      "38.650 | 4.048e-09 | 946.87\n",
      "2.602 | 2.723e-01 | 928.84\n",
      "17.942 | 1.271e-04 | 936.51\n",
      "14.586 | 6.804e-04 | 934.84\n",
      "35.977 | 1.541e-08 | 945.53\n",
      "45.037 | 1.661e-10 | 950.06\n",
      "37.975 | 5.673e-09 | 946.53\n",
      "10.398 | 5.523e-03 | 932.74\n",
      "1.072 | 5.851e-01 | 928.08\n",
      "28.583 | 6.213e-07 | 941.83\n",
      "35.264 | 2.200e-08 | 945.17\n",
      "106.270 | 8.390e-24 | 980.68\n",
      "24.919 | 3.881e-06 | 940.00\n"
     ]
    }
   ],
   "source": [
    "from scipy.stats.distributions import chi2\n",
    "for i, _ in enumerate(nu_guess):\n",
    "    f = lambda *a: -ln_like(*a, without=i)\n",
    "    j = minimize(f, θ, method='TNC')\n",
    "    q = j['fun']\n",
    "    if np.isnan(q):\n",
    "        q = -ln_like(θ, without=i)\n",
    "\n",
    "    # q = 1/2 χ^2\n",
    "    # Likelihood ratio is just exp(Δq)\n",
    "    \n",
    "    Λ = 2 * (q - q0)\n",
    "    LR = np.exp(q0 - q)\n",
    "    \n",
    "    # χ2-distributed, with 2 degrees of freedom\n",
    "    # (ν and A)\n",
    "    p = chi2.sf(Λ, 2)\n",
    "\n",
    "    print(f\"{Λ:.3f} | {p:.3e} | {q:.2f}\")"
   ]
  },
  {
   "cell_type": "code",
   "execution_count": 5,
   "metadata": {},
   "outputs": [
    {
     "name": "stdout",
     "output_type": "stream",
     "text": [
      "1028.203369140625\n",
      "201.321 | 3.956e-37\n"
     ]
    }
   ],
   "source": [
    "f = lambda *a: -ln_like(*a, without_l=2)\n",
    "j = minimize(f, θ, method='TNC')\n",
    "q = j['fun']\n",
    "if np.isnan(q):\n",
    "    q = -ln_like(θ, without_l=2)\n",
    "\n",
    "# q = 1/2 χ^2\n",
    "# Likelihood ratio is just exp(Δq)\n",
    "\n",
    "Λ = 2 * (q - q0)\n",
    "LR = np.exp(q0 - q)\n",
    "\n",
    "# χ2-distributed, with 2*5 + 1 = 11 degrees of freedom\n",
    "# (ν and A) for 5 modes, and quadrupole-mode rotation rate.\n",
    "p = chi2.sf(Λ, 11)\n",
    "\n",
    "print(q)\n",
    "print(f\"{Λ:.3f} | {p:.3e}\")"
   ]
  },
  {
   "cell_type": "markdown",
   "metadata": {},
   "source": []
  }
 ],
 "metadata": {
  "kernelspec": {
   "display_name": "Python 3 (ipykernel)",
   "language": "python",
   "name": "python3"
  },
  "language_info": {
   "codemirror_mode": {
    "name": "ipython",
    "version": 3
   },
   "file_extension": ".py",
   "mimetype": "text/x-python",
   "name": "python",
   "nbconvert_exporter": "python",
   "pygments_lexer": "ipython3",
   "version": "3.11.3"
  },
  "latex_envs": {
   "LaTeX_envs_menu_present": true,
   "autoclose": false,
   "autocomplete": true,
   "bibliofile": "biblio.bib",
   "cite_by": "apalike",
   "current_citInitial": 1,
   "eqLabelWithNumbers": true,
   "eqNumInitial": 1,
   "hotkeys": {
    "equation": "Ctrl-E",
    "itemize": "Ctrl-I"
   },
   "labels_anchors": false,
   "latex_user_defs": false,
   "report_style_numbering": false,
   "user_envs_cfg": false
  }
 },
 "nbformat": 4,
 "nbformat_minor": 1
}
