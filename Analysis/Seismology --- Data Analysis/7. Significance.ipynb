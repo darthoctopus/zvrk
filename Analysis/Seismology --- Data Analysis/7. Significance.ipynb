{
 "cells": [
  {
   "cell_type": "code",
   "execution_count": 1,
   "metadata": {},
   "outputs": [],
   "source": [
    "from preamble import *\n",
    "from preamble.dynesty.pooled_lw_rot import *"
   ]
  },
  {
   "cell_type": "code",
   "execution_count": 2,
   "metadata": {
    "scrolled": true
   },
   "outputs": [],
   "source": [
    "from functools import partial\n",
    "from os.path import isfile\n",
    "\n",
    "@partial(jax.jit, static_argnums=(1,))\n",
    "def ln_like(θ, without=-1):\n",
    "#     return sum(ln_like_chi2_2dof(m, o) for m, o in zip(model(θ), chunk_PS))\n",
    "    return ln_like_chi2_2dof(chunk_model(ν, θ, without=without), PS)\n",
    "reset = False\n",
    "\n",
    "if (not isfile(checkpoint)) or reset:\n",
    "    sampler = dynesty.DynamicNestedSampler(ln_like, prior_transform, Ndims, reflective=[0])\n",
    "    sampler.run_nested()\n",
    "    summary = summarise(sampler)\n",
    "    np.save(checkpoint, {'summary': summary})\n",
    "else:\n",
    "    d = np.load(checkpoint, allow_pickle=True)[()]\n",
    "    summary = d['summary']\n",
    "    \n",
    "from os import makedirs\n",
    "from os.path import basename\n",
    "figdir = f\"figures/{basename(checkpoint).replace('.npy', '')}\"\n",
    "makedirs(figdir, exist_ok=True)"
   ]
  },
  {
   "cell_type": "code",
   "execution_count": 3,
   "metadata": {},
   "outputs": [
    {
     "name": "stderr",
     "output_type": "stream",
     "text": [
      "No GPU/TPU found, falling back to CPU. (Set TF_CPP_MIN_LOG_LEVEL=0 and rerun for more info.)\n"
     ]
    },
    {
     "data": {
      "text/plain": [
       "  message: Optimization terminated successfully.\n",
       "  success: True\n",
       "   status: 0\n",
       "      fun: 1488.612548828125\n",
       "        x: [ 1.506e+00  5.996e-02 ...  7.682e-01  9.810e-02]\n",
       "      nit: 0\n",
       "      jac: [ 0.000e+00  0.000e+00 ...  0.000e+00  0.000e+00]\n",
       " hess_inv: [[1 0 ... 0 0]\n",
       "            [0 1 ... 0 0]\n",
       "            ...\n",
       "            [0 0 ... 1 0]\n",
       "            [0 0 ... 0 1]]\n",
       "     nfev: 38\n",
       "     njev: 1"
      ]
     },
     "execution_count": 3,
     "metadata": {},
     "output_type": "execute_result"
    }
   ],
   "source": [
    "from scipy.optimize import minimize\n",
    "\n",
    "# get ML solution\n",
    "\n",
    "θ0 = summary['new_samples'][-1]\n",
    "f = lambda *a: -ln_like(*a)\n",
    "j0 = minimize(f, θ0, method='BFGS')\n",
    "θ = j0['x']\n",
    "q0 = j0['fun']\n",
    "j0"
   ]
  },
  {
   "cell_type": "code",
   "execution_count": 4,
   "metadata": {},
   "outputs": [
    {
     "name": "stdout",
     "output_type": "stream",
     "text": [
      "125.630 | 5.246e-28\n",
      "50.836 | 9.143e-12\n",
      "78.783 | 7.807e-18\n",
      "10.043 | 6.593e-03\n",
      "10.350 | 5.658e-03\n",
      "23.046 | 9.899e-06\n",
      "61.604 | 4.197e-14\n",
      "51.437 | 6.770e-12\n",
      "61.276 | 4.943e-14\n",
      "18.667 | 8.841e-05\n",
      "0.509 | 7.751e-01\n",
      "20.520 | 3.501e-05\n",
      "43.010 | 4.576e-10\n",
      "73.093 | 1.343e-16\n",
      "6.595 | 3.697e-02\n"
     ]
    }
   ],
   "source": [
    "from scipy.stats.distributions import chi2\n",
    "for i, _ in enumerate(nu_guess):\n",
    "    f = lambda *a: -ln_like(*a, without=i)/10000\n",
    "    j = minimize(f, θ0, method='TNC')\n",
    "    q = j['fun']*10000\n",
    "    if np.isnan(q):\n",
    "        q = -ln_like(θ, without=i)\n",
    "\n",
    "    # q = 1/2 χ^2\n",
    "    # Likelihood ratio is just exp(Δq)\n",
    "    \n",
    "    Λ = 2 * (q - q0)\n",
    "    LR = np.exp(q0 - q)\n",
    "    \n",
    "    # χ2-distributed, with 2 degrees of freedom\n",
    "    # (ν and A)\n",
    "    p = chi2.sf(Λ, 2)\n",
    "\n",
    "    print(f\"{Λ:.3f} | {p:.3e}\")"
   ]
  }
 ],
 "metadata": {
  "kernelspec": {
   "display_name": "Python 3 (ipykernel)",
   "language": "python",
   "name": "python3"
  },
  "language_info": {
   "codemirror_mode": {
    "name": "ipython",
    "version": 3
   },
   "file_extension": ".py",
   "mimetype": "text/x-python",
   "name": "python",
   "nbconvert_exporter": "python",
   "pygments_lexer": "ipython3",
   "version": "3.11.3"
  },
  "latex_envs": {
   "LaTeX_envs_menu_present": true,
   "autoclose": false,
   "autocomplete": true,
   "bibliofile": "biblio.bib",
   "cite_by": "apalike",
   "current_citInitial": 1,
   "eqLabelWithNumbers": true,
   "eqNumInitial": 1,
   "hotkeys": {
    "equation": "Ctrl-E",
    "itemize": "Ctrl-I"
   },
   "labels_anchors": false,
   "latex_user_defs": false,
   "report_style_numbering": false,
   "user_envs_cfg": false
  }
 },
 "nbformat": 4,
 "nbformat_minor": 1
}
