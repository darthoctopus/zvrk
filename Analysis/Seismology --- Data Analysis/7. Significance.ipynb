{
 "cells": [
  {
   "cell_type": "code",
   "execution_count": 1,
   "metadata": {},
   "outputs": [],
   "source": [
    "from preamble import *\n",
    "from preamble.dynesty.pooled_lw_rot import *"
   ]
  },
  {
   "cell_type": "code",
   "execution_count": 2,
   "metadata": {
    "scrolled": true
   },
   "outputs": [],
   "source": [
    "from functools import partial\n",
    "from os.path import isfile\n",
    "\n",
    "@partial(jax.jit, static_argnums=(1,2))\n",
    "def ln_like(θ, without=-1, without_l=-1):\n",
    "#     return sum(ln_like_chi2_2dof(m, o) for m, o in zip(model(θ), chunk_PS))\n",
    "    return ln_like_chi2_2dof(\n",
    "        chunk_model(ν, θ, without=without, without_l=without_l), \n",
    "        PS)\n",
    "reset = False\n",
    "\n",
    "if (not isfile(checkpoint)) or reset:\n",
    "    sampler = dynesty.DynamicNestedSampler(ln_like, prior_transform, Ndims, reflective=[0])\n",
    "    sampler.run_nested()\n",
    "    summary = summarise(sampler)\n",
    "    np.save(checkpoint, {'summary': summary})\n",
    "else:\n",
    "    d = np.load(checkpoint, allow_pickle=True)[()]\n",
    "    summary = d['summary']\n",
    "    \n",
    "from os import makedirs\n",
    "from os.path import basename\n",
    "figdir = f\"figures/{basename(checkpoint).replace('.npy', '')}\"\n",
    "makedirs(figdir, exist_ok=True)"
   ]
  },
  {
   "cell_type": "code",
   "execution_count": 3,
   "metadata": {},
   "outputs": [
    {
     "name": "stderr",
     "output_type": "stream",
     "text": [
      "No GPU/TPU found, falling back to CPU. (Set TF_CPP_MIN_LOG_LEVEL=0 and rerun for more info.)\n"
     ]
    },
    {
     "data": {
      "text/plain": [
       " message: Converged (|f_n-f_(n-1)| ~= 0)\n",
       " success: True\n",
       "  status: 1\n",
       "     fun: 927.542724609375\n",
       "       x: [ 1.436e+00  4.804e-02 ...  8.845e-01  2.115e-01]\n",
       "     nit: 1\n",
       "     jac: [ 0.000e+00  0.000e+00 ...  0.000e+00  0.000e+00]\n",
       "    nfev: 722"
      ]
     },
     "execution_count": 3,
     "metadata": {},
     "output_type": "execute_result"
    }
   ],
   "source": [
    "from scipy.optimize import minimize\n",
    "\n",
    "# get ML solution\n",
    "\n",
    "θ0 = summary['new_samples'][-1]\n",
    "f = lambda *a: -ln_like(*a)\n",
    "j0 = minimize(f, θ0, method='L-BFGS-B',\n",
    "              options=dict(maxiter=30000))\n",
    "θ = j0['x']\n",
    "j0 = minimize(f, θ, method='Nelder-Mead',\n",
    "              options=dict(maxiter=30000, ))\n",
    "θ = j0['x']\n",
    "j0 = minimize(f, θ, method='Nelder-Mead',\n",
    "              options=dict(maxiter=30000, ))\n",
    "θ = j0['x']\n",
    "j0 = minimize(f, θ, method='TNC')\n",
    "θ = j0['x']\n",
    "q0 = j0['fun']\n",
    "j0"
   ]
  },
  {
   "cell_type": "code",
   "execution_count": 4,
   "metadata": {},
   "outputs": [
    {
     "name": "stdout",
     "output_type": "stream",
     "text": [
      "14.605 | 6.738e-04 | 934.85\n",
      "6.509 | 3.860e-02 | 930.80\n",
      "5.112 | 7.761e-02 | 930.10\n",
      "-6.031 | 1.000e+00 | 924.53\n",
      "12.428 | 2.001e-03 | 933.76\n",
      "2.254 | 3.240e-01 | 928.67\n",
      "17.626 | 1.488e-04 | 936.36\n",
      "19.316 | 6.390e-05 | 937.20\n",
      "23.218 | 9.086e-06 | 939.15\n",
      "-4.060 | 1.000e+00 | 925.51\n",
      "-2.937 | 1.000e+00 | 926.07\n",
      "-0.410 | 1.000e+00 | 927.34\n",
      "11.731 | 2.836e-03 | 933.41\n",
      "10.920 | 4.254e-03 | 933.00\n",
      "8.857 | 1.193e-02 | 931.97\n"
     ]
    }
   ],
   "source": [
    "from scipy.stats.distributions import chi2\n",
    "for i, _ in enumerate(nu_guess):\n",
    "    f = lambda *a: -ln_like(*a, without=i)\n",
    "    j = minimize(f, θ, method='L-BFGS-B')\n",
    "    j = minimize(f, j['x'], method='Nelder-Mead')\n",
    "    j = minimize(f, j['x'], method='Nelder-Mead')\n",
    "    j = minimize(f, j['x'], method='TNC')\n",
    "    q = j['fun']\n",
    "    if np.isnan(q):\n",
    "        q = -ln_like(θ, without=i)\n",
    "\n",
    "    # q = 1/2 χ^2\n",
    "    # Likelihood ratio is just exp(Δq)\n",
    "    \n",
    "    Λ = 2 * (q - q0)\n",
    "    LR = np.exp(q0 - q)\n",
    "    \n",
    "    # χ2-distributed, with 2 degrees of freedom\n",
    "    # (ν and A)\n",
    "    p = chi2.sf(Λ, 2)\n",
    "\n",
    "    print(f\"{Λ:.3f} | {p:.3e} | {q:.2f}\")"
   ]
  },
  {
   "cell_type": "code",
   "execution_count": 5,
   "metadata": {},
   "outputs": [
    {
     "name": "stdout",
     "output_type": "stream",
     "text": [
      "941.630859375\n",
      "28.176 | 3.042e-03\n"
     ]
    }
   ],
   "source": [
    "f = lambda *a: -ln_like(*a, without_l=2)\n",
    "j = minimize(f, θ, method='L-BFGS-B')\n",
    "j = minimize(f, j['x'], method='Nelder-Mead')\n",
    "j = minimize(f, j['x'], method='Nelder-Mead')\n",
    "j = minimize(f, j['x'], method='TNC')\n",
    "q = j['fun']\n",
    "if np.isnan(q):\n",
    "    q = -ln_like(θ, without_l=2)\n",
    "\n",
    "# q = 1/2 χ^2\n",
    "# Likelihood ratio is just exp(Δq)\n",
    "\n",
    "Λ = 2 * (q - q0)\n",
    "LR = np.exp(q0 - q)\n",
    "\n",
    "# χ2-distributed, with 2*5 + 1 = 11 degrees of freedom\n",
    "# (ν and A) for 5 modes, and quadrupole-mode rotation rate.\n",
    "p = chi2.sf(Λ, 11)\n",
    "\n",
    "print(q)\n",
    "print(f\"{Λ:.3f} | {p:.3e}\")"
   ]
  },
  {
   "cell_type": "markdown",
   "metadata": {},
   "source": []
  }
 ],
 "metadata": {
  "kernelspec": {
   "display_name": "Python 3 (ipykernel)",
   "language": "python",
   "name": "python3"
  },
  "language_info": {
   "codemirror_mode": {
    "name": "ipython",
    "version": 3
   },
   "file_extension": ".py",
   "mimetype": "text/x-python",
   "name": "python",
   "nbconvert_exporter": "python",
   "pygments_lexer": "ipython3",
   "version": "3.11.3"
  },
  "latex_envs": {
   "LaTeX_envs_menu_present": true,
   "autoclose": false,
   "autocomplete": true,
   "bibliofile": "biblio.bib",
   "cite_by": "apalike",
   "current_citInitial": 1,
   "eqLabelWithNumbers": true,
   "eqNumInitial": 1,
   "hotkeys": {
    "equation": "Ctrl-E",
    "itemize": "Ctrl-I"
   },
   "labels_anchors": false,
   "latex_user_defs": false,
   "report_style_numbering": false,
   "user_envs_cfg": false
  }
 },
 "nbformat": 4,
 "nbformat_minor": 1
}
